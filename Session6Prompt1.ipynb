{
 "cells": [
  {
   "cell_type": "code",
   "execution_count": 1,
   "id": "bf991d57-fef6-4032-b9c0-8122899d4a64",
   "metadata": {},
   "outputs": [],
   "source": [
    "import numpy as np\n",
    "import matplotlib.pyplot as plt"
   ]
  },
  {
   "cell_type": "code",
   "execution_count": 2,
   "id": "e91ca7a6-99fa-4477-bbb6-d8ed01b42cc9",
   "metadata": {},
   "outputs": [],
   "source": [
    "def sin(x):\n",
    "    return np.sin(x)"
   ]
  },
  {
   "cell_type": "markdown",
   "id": "dc165879-a5ff-4034-9e5e-10c065bd74f4",
   "metadata": {},
   "source": [
    "#Sine Function\n",
    "\n",
    "The sin(x) function takes input \"x\" and returns the sine of x."
   ]
  },
  {
   "cell_type": "code",
   "execution_count": 5,
   "id": "b44e26fa-fbf8-4591-8e39-aca2d54e05c6",
   "metadata": {},
   "outputs": [],
   "source": [
    "def cos(x):\n",
    "    return np.cos(x)"
   ]
  },
  {
   "cell_type": "markdown",
   "id": "d202b6b8-ed53-4229-ba78-5eabc0d5c9b6",
   "metadata": {},
   "source": [
    "#Cos Function\n",
    "\n",
    "The cos(x) function takes input \"x\" and returns the cos of x."
   ]
  },
  {
   "cell_type": "code",
   "execution_count": 6,
   "id": "09bc7cb5-e4a7-4753-a7c3-1852d60d662a",
   "metadata": {},
   "outputs": [],
   "source": [
    "#Creates 1000 x values between 0 and 2\n",
    "xValues = np.linspace(0, 2*np.pi, 1000)\n",
    "\n",
    "#Calculate sin(x) and cos(x) for x in xValues\n",
    "sinValues = sin(xValues)\n",
    "cosValues = cos(xValues)"
   ]
  },
  {
   "cell_type": "markdown",
   "id": "be6053b1-b00c-441f-80be-2f87f702abab",
   "metadata": {},
   "source": [
    "#Tabulating sin(x) and cos(x)\n"
   ]
  },
  {
   "cell_type": "code",
   "execution_count": 7,
   "id": "cdf376a5-12a8-49f7-9847-3eb5ea8bf888",
   "metadata": {},
   "outputs": [
    {
     "name": "stdout",
     "output_type": "stream",
     "text": [
      "x              sin(x)         cos(x)         \n",
      "0.00000000     0.00000000     1.00000000     \n",
      "0.00628947     0.00628943     0.99998022     \n",
      "0.01257895     0.01257862     0.99992089     \n",
      "0.01886842     0.01886730     0.99982200     \n",
      "0.02515790     0.02515525     0.99968356     \n",
      "0.03144737     0.03144219     0.99950557     \n",
      "0.03773685     0.03772789     0.99928805     \n",
      "0.04402632     0.04401210     0.99903100     \n",
      "0.05031580     0.05029457     0.99873443     \n",
      "0.05660527     0.05657505     0.99839835     \n"
     ]
    }
   ],
   "source": [
    "#Prints first 10 values of x, sin(x), and cos(x)\n",
    "print(f\"{'x':<15}{'sin(x)':<15}{'cos(x)':<15}\")\n",
    "for i in range(10):\n",
    "    print(f\"{xValues[i]:<15.8f}{sinValues[i]:<15.8f}{cosValues[i]:<15.8f}\")"
   ]
  },
  {
   "cell_type": "markdown",
   "id": "2e0d3f5b-252a-439a-bfe0-853a911ffdd8",
   "metadata": {},
   "source": [
    "#Displaying first 10 values"
   ]
  },
  {
   "cell_type": "code",
   "execution_count": null,
   "id": "5018bb05-9682-48a8-903a-886c5f472ae4",
   "metadata": {},
   "outputs": [],
   "source": []
  }
 ],
 "metadata": {
  "kernelspec": {
   "display_name": "ASTR 19",
   "language": "python",
   "name": "astr19"
  },
  "language_info": {
   "codemirror_mode": {
    "name": "ipython",
    "version": 3
   },
   "file_extension": ".py",
   "mimetype": "text/x-python",
   "name": "python",
   "nbconvert_exporter": "python",
   "pygments_lexer": "ipython3",
   "version": "3.10.12"
  }
 },
 "nbformat": 4,
 "nbformat_minor": 5
}
